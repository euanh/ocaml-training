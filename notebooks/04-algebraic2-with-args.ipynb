{
 "metadata": {
  "language": "ocaml",
  "name": ""
 },
 "nbformat": 3,
 "nbformat_minor": 0,
 "worksheets": [
  {
   "cells": [
    {
     "cell_type": "markdown",
     "metadata": {},
     "source": [
      "ADTs can represent more complex types:"
     ]
    },
    {
     "cell_type": "code",
     "collapsed": false,
     "input": [
      "type thing =\n",
      "    | Foo of int\n",
      "    | Bar of string\n",
      "    | Baz"
     ],
     "language": "python",
     "metadata": {},
     "outputs": [
      {
       "output_type": "stream",
       "stream": "stdout",
       "text": [
        "type thing = Foo of int | Bar of string | Baz\n"
       ]
      }
     ],
     "prompt_number": 1
    },
    {
     "cell_type": "code",
     "collapsed": false,
     "input": [
      "let is_foo = function\n",
      "    | Foo _ -> true\n",
      "    | _ -> false"
     ],
     "language": "python",
     "metadata": {},
     "outputs": [
      {
       "output_type": "stream",
       "stream": "stdout",
       "text": [
        "val is_foo : thing -> bool = <fun>\n"
       ]
      }
     ],
     "prompt_number": 2
    },
    {
     "cell_type": "markdown",
     "metadata": {},
     "source": [
      "Some more advanced pattern matching:"
     ]
    },
    {
     "cell_type": "code",
     "collapsed": false,
     "input": [
      "let is_nonempty_bar = function\n",
      "    | Bar x when x <> \"\" -> true\n",
      "    | _ -> false"
     ],
     "language": "python",
     "metadata": {},
     "outputs": [
      {
       "output_type": "stream",
       "stream": "stdout",
       "text": [
        "val is_nonempty_bar : thing -> bool = <fun>\n"
       ]
      }
     ],
     "prompt_number": 3
    }
   ],
   "metadata": {}
  }
 ]
}