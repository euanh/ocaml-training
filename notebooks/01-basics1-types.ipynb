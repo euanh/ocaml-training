{
 "metadata": {
  "language": "ocaml",
  "name": ""
 },
 "nbformat": 3,
 "nbformat_minor": 0,
 "worksheets": [
  {
   "cells": [
    {
     "cell_type": "markdown",
     "metadata": {},
     "source": [
      "OCaml is statically and strongly typed. Types are automatically inferred."
     ]
    },
    {
     "cell_type": "code",
     "collapsed": false,
     "input": [
      "let x = 5"
     ],
     "language": "python",
     "metadata": {},
     "outputs": [
      {
       "html": [
        "<pre style=\"color:slategray;max-height:100px;overflow:hidden\" \n",
        "onclick=\"\n",
        "if (this.style.maxHeight === 'none') \n",
        "    this.style.maxHeight = '100px';\n",
        "else\n",
        "    this.style.maxHeight = 'none'; \n",
        "\">val x : int = 5\n",
        "</pre>"
       ],
       "metadata": {},
       "output_type": "pyout",
       "prompt_number": 1
      }
     ],
     "prompt_number": 1
    },
    {
     "cell_type": "code",
     "collapsed": false,
     "input": [
      "let y = 6.7"
     ],
     "language": "python",
     "metadata": {},
     "outputs": [
      {
       "html": [
        "<pre style=\"color:slategray;max-height:100px;overflow:hidden\" \n",
        "onclick=\"\n",
        "if (this.style.maxHeight === 'none') \n",
        "    this.style.maxHeight = '100px';\n",
        "else\n",
        "    this.style.maxHeight = 'none'; \n",
        "\">val y : float = 6.7\n",
        "</pre>"
       ],
       "metadata": {},
       "output_type": "pyout",
       "prompt_number": 2
      }
     ],
     "prompt_number": 2
    },
    {
     "cell_type": "code",
     "collapsed": false,
     "input": [
      "x + y"
     ],
     "language": "python",
     "metadata": {},
     "outputs": [
      {
       "html": [
        "<pre style=\"color:red;max-height:100px;overflow:hidden\" \n",
        "onclick=\"\n",
        "if (this.style.maxHeight === 'none') \n",
        "    this.style.maxHeight = '100px';\n",
        "else\n",
        "    this.style.maxHeight = 'none'; \n",
        "\">File &quot;[3]&quot;, line 1, characters 4-5:\n",
        "Error: This expression has type float but an expression was expected of type\n",
        "         int\n",
        "Characters 4-5:\n",
        "  x + y\n",
        "      ^\n",
        "</pre>"
       ],
       "metadata": {},
       "output_type": "pyout",
       "prompt_number": 3
      }
     ],
     "prompt_number": 3
    },
    {
     "cell_type": "code",
     "collapsed": false,
     "input": [
      "x + (int_of_float y)"
     ],
     "language": "python",
     "metadata": {},
     "outputs": [
      {
       "html": [
        "<pre style=\"color:slategray;max-height:100px;overflow:hidden\" \n",
        "onclick=\"\n",
        "if (this.style.maxHeight === 'none') \n",
        "    this.style.maxHeight = '100px';\n",
        "else\n",
        "    this.style.maxHeight = 'none'; \n",
        "\">- : int = 11\n",
        "</pre>"
       ],
       "metadata": {},
       "output_type": "pyout",
       "prompt_number": 4
      }
     ],
     "prompt_number": 4
    }
   ],
   "metadata": {}
  }
 ]
}