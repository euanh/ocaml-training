{
 "metadata": {
  "language": "ocaml",
  "name": ""
 },
 "nbformat": 3,
 "nbformat_minor": 0,
 "worksheets": [
  {
   "cells": [
    {
     "cell_type": "markdown",
     "metadata": {},
     "source": [
      "Simple algebraic data types can be used like enums."
     ]
    },
    {
     "cell_type": "code",
     "collapsed": false,
     "input": [
      "type thing =\n",
      "    | Foo\n",
      "    | Bar\n",
      "    | Baz"
     ],
     "language": "python",
     "metadata": {},
     "outputs": [
      {
       "output_type": "stream",
       "stream": "stdout",
       "text": [
        "type thing = Foo | Bar | Baz\n"
       ]
      }
     ],
     "prompt_number": 1
    },
    {
     "cell_type": "code",
     "collapsed": false,
     "input": [
      "let is_foo_1 x =\n",
      "    if x = Foo\n",
      "    then true\n",
      "    else false"
     ],
     "language": "python",
     "metadata": {},
     "outputs": [
      {
       "output_type": "stream",
       "stream": "stdout",
       "text": [
        "val is_foo_1 : thing -> bool = <fun>\n"
       ]
      }
     ],
     "prompt_number": 2
    },
    {
     "cell_type": "markdown",
     "metadata": {},
     "source": [
      "Pattern matching can be used as an alternative to if..then..else"
     ]
    },
    {
     "cell_type": "code",
     "collapsed": false,
     "input": [
      "let is_foo_2 = function\n",
      "    | Foo -> true\n",
      "    | _ -> false"
     ],
     "language": "python",
     "metadata": {},
     "outputs": [
      {
       "output_type": "stream",
       "stream": "stdout",
       "text": [
        "val is_foo_2 : thing -> bool = <fun>\n"
       ]
      }
     ],
     "prompt_number": 3
    }
   ],
   "metadata": {}
  }
 ]
}