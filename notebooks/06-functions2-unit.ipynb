{
 "metadata": {
  "language": "ocaml",
  "name": ""
 },
 "nbformat": 3,
 "nbformat_minor": 0,
 "worksheets": [
  {
   "cells": [
    {
     "cell_type": "markdown",
     "metadata": {},
     "source": [
      "A function with no arguments would get evaluated immediately! Instead, use a single argument of type unit:"
     ]
    },
    {
     "cell_type": "code",
     "collapsed": false,
     "input": [
      "let say_hello () = Printf.printf \"%s\\n\" \"Hello world!\""
     ],
     "language": "python",
     "metadata": {},
     "outputs": [
      {
       "html": [
        "<pre style=\"color:slategray;max-height:100px;overflow:hidden\" \n",
        "onclick=\"\n",
        "if (this.style.maxHeight === 'none') \n",
        "    this.style.maxHeight = '100px';\n",
        "else\n",
        "    this.style.maxHeight = 'none'; \n",
        "\">val say_hello : unit -&gt; unit = &lt;fun&gt;\n",
        "</pre>"
       ],
       "metadata": {},
       "output_type": "pyout",
       "prompt_number": 1
      }
     ],
     "prompt_number": 1
    },
    {
     "cell_type": "code",
     "collapsed": false,
     "input": [
      "say_hello ()"
     ],
     "language": "python",
     "metadata": {},
     "outputs": [
      {
       "output_type": "stream",
       "stream": "stdout",
       "text": [
        "Hello world!\n"
       ]
      },
      {
       "html": [
        "<pre style=\"color:slategray;max-height:100px;overflow:hidden\" \n",
        "onclick=\"\n",
        "if (this.style.maxHeight === 'none') \n",
        "    this.style.maxHeight = '100px';\n",
        "else\n",
        "    this.style.maxHeight = 'none'; \n",
        "\">- : unit = ()\n",
        "</pre>"
       ],
       "metadata": {},
       "output_type": "pyout",
       "prompt_number": 2
      }
     ],
     "prompt_number": 2
    },
    {
     "cell_type": "markdown",
     "metadata": {},
     "source": [
      "This is a common pattern for functions which perform side effects, but don't take any arguments:"
     ]
    },
    {
     "cell_type": "code",
     "collapsed": false,
     "input": [
      "Unix.gettimeofday"
     ],
     "language": "python",
     "metadata": {},
     "outputs": [
      {
       "html": [
        "<pre style=\"color:slategray;max-height:100px;overflow:hidden\" \n",
        "onclick=\"\n",
        "if (this.style.maxHeight === 'none') \n",
        "    this.style.maxHeight = '100px';\n",
        "else\n",
        "    this.style.maxHeight = 'none'; \n",
        "\">- : unit -&gt; float = &lt;fun&gt;\n",
        "</pre>"
       ],
       "metadata": {},
       "output_type": "pyout",
       "prompt_number": 3
      }
     ],
     "prompt_number": 3
    },
    {
     "cell_type": "code",
     "collapsed": false,
     "input": [
      "Unix.gettimeofday ()"
     ],
     "language": "python",
     "metadata": {},
     "outputs": [
      {
       "html": [
        "<pre style=\"color:slategray;max-height:100px;overflow:hidden\" \n",
        "onclick=\"\n",
        "if (this.style.maxHeight === 'none') \n",
        "    this.style.maxHeight = '100px';\n",
        "else\n",
        "    this.style.maxHeight = 'none'; \n",
        "\">- : float = 1423728317.40005112\n",
        "</pre>"
       ],
       "metadata": {},
       "output_type": "pyout",
       "prompt_number": 4
      }
     ],
     "prompt_number": 4
    }
   ],
   "metadata": {}
  }
 ]
}