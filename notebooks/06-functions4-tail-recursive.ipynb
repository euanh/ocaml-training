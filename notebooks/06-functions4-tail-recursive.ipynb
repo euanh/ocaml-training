{
 "metadata": {
  "language": "ocaml",
  "name": ""
 },
 "nbformat": 3,
 "nbformat_minor": 0,
 "worksheets": [
  {
   "cells": [
    {
     "cell_type": "markdown",
     "metadata": {},
     "source": [
      "Warning! This isn't tail recursive:"
     ]
    },
    {
     "cell_type": "code",
     "collapsed": false,
     "input": [
      "let rec map f = function\n",
      "    | [] -> []\n",
      "    | x :: rest -> (f x) :: (map f rest)"
     ],
     "language": "python",
     "metadata": {},
     "outputs": [
      {
       "output_type": "stream",
       "stream": "stdout",
       "text": [
        "val map : ('a -> 'b) -> 'a list -> 'b list = <fun>\n"
       ]
      }
     ],
     "prompt_number": 1
    },
    {
     "cell_type": "markdown",
     "metadata": {},
     "source": [
      "Instead, define another internal function which takes an accumulator value:"
     ]
    },
    {
     "cell_type": "code",
     "collapsed": false,
     "input": [
      "let map_tail_recursive f items =\n",
      "    let rec map_internal f items acc =\n",
      "        match items with\n",
      "        | x :: rest -> map_internal f rest ((f x) :: acc)\n",
      "        | [] -> acc\n",
      "    in\n",
      "    List.rev (map_internal f items [])"
     ],
     "language": "python",
     "metadata": {},
     "outputs": [
      {
       "output_type": "stream",
       "stream": "stdout",
       "text": [
        "val map_tail_recursive : ('a -> 'b) -> 'a list -> 'b list = <fun>\n"
       ]
      }
     ],
     "prompt_number": 2
    },
    {
     "cell_type": "markdown",
     "metadata": {},
     "source": [
      "There's still something wrong with the above function - what is it?"
     ]
    }
   ],
   "metadata": {}
  }
 ]
}