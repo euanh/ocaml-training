{
 "metadata": {
  "language": "ocaml",
  "name": ""
 },
 "nbformat": 3,
 "nbformat_minor": 0,
 "worksheets": [
  {
   "cells": [
    {
     "cell_type": "markdown",
     "metadata": {},
     "source": [
      "Warning! This isn't tail recursive:"
     ]
    },
    {
     "cell_type": "code",
     "collapsed": false,
     "input": [
      "let rec map f = function\n",
      "    | [] -> []\n",
      "    | x :: rest -> (f x) :: (map f rest)"
     ],
     "language": "python",
     "metadata": {},
     "outputs": [
      {
       "html": [
        "<pre style=\"color:slategray;max-height:100px;overflow:hidden\" \n",
        "onclick=\"\n",
        "if (this.style.maxHeight === 'none') \n",
        "    this.style.maxHeight = '100px';\n",
        "else\n",
        "    this.style.maxHeight = 'none'; \n",
        "\">val map : ('a -&gt; 'b) -&gt; 'a list -&gt; 'b list = &lt;fun&gt;\n",
        "</pre>"
       ],
       "metadata": {},
       "output_type": "pyout",
       "prompt_number": 1
      }
     ],
     "prompt_number": 1
    },
    {
     "cell_type": "markdown",
     "metadata": {},
     "source": [
      "Instead, define another internal function which takes an accumulator value:"
     ]
    },
    {
     "cell_type": "code",
     "collapsed": false,
     "input": [
      "let map_tail_recursive f items =\n",
      "    let rec map_internal f items acc =\n",
      "        match items with\n",
      "        | x :: rest -> map_internal f rest ((f x) :: acc)\n",
      "        | [] -> acc\n",
      "    in\n",
      "    List.rev (map_internal f items [])"
     ],
     "language": "python",
     "metadata": {},
     "outputs": [
      {
       "html": [
        "<pre style=\"color:slategray;max-height:100px;overflow:hidden\" \n",
        "onclick=\"\n",
        "if (this.style.maxHeight === 'none') \n",
        "    this.style.maxHeight = '100px';\n",
        "else\n",
        "    this.style.maxHeight = 'none'; \n",
        "\">val map_tail_recursive : ('a -&gt; 'b) -&gt; 'a list -&gt; 'b list = &lt;fun&gt;\n",
        "</pre>"
       ],
       "metadata": {},
       "output_type": "pyout",
       "prompt_number": 2
      }
     ],
     "prompt_number": 2
    },
    {
     "cell_type": "markdown",
     "metadata": {},
     "source": [
      "There's still something wrong with the above function - what is it?"
     ]
    }
   ],
   "metadata": {}
  }
 ]
}