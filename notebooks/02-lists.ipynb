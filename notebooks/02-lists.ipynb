{
 "metadata": {
  "language": "ocaml",
  "name": ""
 },
 "nbformat": 3,
 "nbformat_minor": 0,
 "worksheets": [
  {
   "cells": [
    {
     "cell_type": "code",
     "collapsed": false,
     "input": [
      "[1;2;3]"
     ],
     "language": "python",
     "metadata": {},
     "outputs": [
      {
       "output_type": "stream",
       "stream": "stdout",
       "text": [
        "- : int list = [1; 2; 3]\n"
       ]
      }
     ],
     "prompt_number": 1
    },
    {
     "cell_type": "markdown",
     "metadata": {},
     "source": [
      "Empty lists have undefined type:"
     ]
    },
    {
     "cell_type": "code",
     "collapsed": false,
     "input": [
      "[]"
     ],
     "language": "python",
     "metadata": {},
     "outputs": [
      {
       "output_type": "stream",
       "stream": "stdout",
       "text": [
        "- : 'a list = []\n"
       ]
      }
     ],
     "prompt_number": 2
    },
    {
     "cell_type": "markdown",
     "metadata": {},
     "source": [
      "We can easily prepend to lists:"
     ]
    },
    {
     "cell_type": "code",
     "collapsed": false,
     "input": [
      "\"abc\" :: [\"def\"; \"ghi\"]"
     ],
     "language": "python",
     "metadata": {},
     "outputs": [
      {
       "output_type": "stream",
       "stream": "stdout",
       "text": [
        "- : string list = [\"abc\"; \"def\"; \"ghi\"]\n"
       ]
      }
     ],
     "prompt_number": 3
    },
    {
     "cell_type": "markdown",
     "metadata": {},
     "source": [
      "Pattern matching can be used on lists:"
     ]
    },
    {
     "cell_type": "code",
     "collapsed": false,
     "input": [
      "let is_empty = function\n",
      "    | [] -> true\n",
      "    | _ -> false"
     ],
     "language": "python",
     "metadata": {},
     "outputs": [
      {
       "output_type": "stream",
       "stream": "stdout",
       "text": [
        "val is_empty : 'a list -> bool = <fun>\n"
       ]
      }
     ],
     "prompt_number": 4
    },
    {
     "cell_type": "code",
     "collapsed": false,
     "input": [
      "let is_empty_bad l =\n",
      "    match l with\n",
      "    | _ -> false\n",
      "    | [] -> true"
     ],
     "language": "python",
     "metadata": {},
     "outputs": [
      {
       "output_type": "stream",
       "stream": "stderr",
       "text": [
        "File \"[5]\", line 4, characters 6-8:\n"
       ]
      },
      {
       "output_type": "stream",
       "stream": "stderr",
       "text": [
        "Warning 11: this match case is unused."
       ]
      },
      {
       "output_type": "stream",
       "stream": "stderr",
       "text": [
        "\n"
       ]
      },
      {
       "output_type": "stream",
       "stream": "stdout",
       "text": [
        "val is_empty_bad : 'a list -> bool = <fun>\n"
       ]
      }
     ],
     "prompt_number": 5
    }
   ],
   "metadata": {}
  }
 ]
}