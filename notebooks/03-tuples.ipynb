{
 "metadata": {
  "language": "ocaml",
  "name": ""
 },
 "nbformat": 3,
 "nbformat_minor": 0,
 "worksheets": [
  {
   "cells": [
    {
     "cell_type": "markdown",
     "metadata": {},
     "source": [
      "Tuples can contain any combination of types, but cannot be prepended to:"
     ]
    },
    {
     "cell_type": "code",
     "collapsed": false,
     "input": [
      "let dog = (\"Rover\", \"woof\", 4)"
     ],
     "language": "python",
     "metadata": {},
     "outputs": [
      {
       "html": [
        "<pre style=\"color:slategray;max-height:100px;overflow:hidden\" \n",
        "onclick=\"\n",
        "if (this.style.maxHeight === 'none') \n",
        "    this.style.maxHeight = '100px';\n",
        "else\n",
        "    this.style.maxHeight = 'none'; \n",
        "\">val dog : string * string * int = (&quot;Rover&quot;, &quot;woof&quot;, 4)\n",
        "</pre>"
       ],
       "metadata": {},
       "output_type": "pyout",
       "prompt_number": 1
      }
     ],
     "prompt_number": 1
    },
    {
     "cell_type": "markdown",
     "metadata": {},
     "source": [
      "Pattern matching can be used with tuples:"
     ]
    },
    {
     "cell_type": "code",
     "collapsed": false,
     "input": [
      "let name, _, _ = dog"
     ],
     "language": "python",
     "metadata": {},
     "outputs": [
      {
       "html": [
        "<pre style=\"color:slategray;max-height:100px;overflow:hidden\" \n",
        "onclick=\"\n",
        "if (this.style.maxHeight === 'none') \n",
        "    this.style.maxHeight = '100px';\n",
        "else\n",
        "    this.style.maxHeight = 'none'; \n",
        "\">val name : string = &quot;Rover&quot;\n",
        "</pre>"
       ],
       "metadata": {},
       "output_type": "pyout",
       "prompt_number": 2
      }
     ],
     "prompt_number": 2
    },
    {
     "cell_type": "code",
     "collapsed": false,
     "input": [
      "let talk = function\n",
      "    | _, noise, _ -> print_endline noise"
     ],
     "language": "python",
     "metadata": {},
     "outputs": [
      {
       "html": [
        "<pre style=\"color:slategray;max-height:100px;overflow:hidden\" \n",
        "onclick=\"\n",
        "if (this.style.maxHeight === 'none') \n",
        "    this.style.maxHeight = '100px';\n",
        "else\n",
        "    this.style.maxHeight = 'none'; \n",
        "\">val talk : 'a * string * 'b -&gt; unit = &lt;fun&gt;\n",
        "</pre>"
       ],
       "metadata": {},
       "output_type": "pyout",
       "prompt_number": 3
      }
     ],
     "prompt_number": 3
    },
    {
     "cell_type": "code",
     "collapsed": false,
     "input": [
      "talk dog"
     ],
     "language": "python",
     "metadata": {},
     "outputs": [
      {
       "output_type": "stream",
       "stream": "stdout",
       "text": [
        "woof\n"
       ]
      },
      {
       "html": [
        "<pre style=\"color:slategray;max-height:100px;overflow:hidden\" \n",
        "onclick=\"\n",
        "if (this.style.maxHeight === 'none') \n",
        "    this.style.maxHeight = '100px';\n",
        "else\n",
        "    this.style.maxHeight = 'none'; \n",
        "\">- : unit = ()\n",
        "</pre>"
       ],
       "metadata": {},
       "output_type": "pyout",
       "prompt_number": 4
      }
     ],
     "prompt_number": 4
    }
   ],
   "metadata": {}
  }
 ]
}