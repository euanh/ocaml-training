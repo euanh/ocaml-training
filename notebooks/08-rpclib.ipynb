{
 "metadata": {
  "language": "ocaml",
  "name": ""
 },
 "nbformat": 3,
 "nbformat_minor": 0,
 "worksheets": [
  {
   "cells": [
    {
     "cell_type": "code",
     "collapsed": false,
     "input": [
      "#require \"rpclib.syntax\""
     ],
     "language": "python",
     "metadata": {},
     "outputs": [
      {
       "output_type": "stream",
       "stream": "stdout",
       "text": []
      }
     ],
     "prompt_number": 1
    },
    {
     "cell_type": "code",
     "collapsed": false,
     "input": [
      "type person = {\n",
      "    name: string;\n",
      "    company: string;\n",
      "    age: int;\n",
      "} with rpc"
     ],
     "language": "python",
     "metadata": {},
     "outputs": [
      {
       "output_type": "stream",
       "stream": "stdout",
       "text": [
        "type person = { name : string; company : string; age : int; }\n",
        "val person_of_rpc : Rpc.t -> person = <fun>\n",
        "val rpc_of_person : person -> Rpc.t = <fun>\n"
       ]
      }
     ],
     "prompt_number": 2
    },
    {
     "cell_type": "code",
     "collapsed": false,
     "input": [
      "let me = {name = \"John\"; company = \"Citrix\"; age = 30}"
     ],
     "language": "python",
     "metadata": {},
     "outputs": [
      {
       "output_type": "stream",
       "stream": "stdout",
       "text": [
        "val me : person = {name = \"John\"; company = \"Citrix\"; age = 30}\n"
       ]
      }
     ],
     "prompt_number": 3
    },
    {
     "cell_type": "code",
     "collapsed": false,
     "input": [
      "let rpc = rpc_of_person me"
     ],
     "language": "python",
     "metadata": {},
     "outputs": [
      {
       "output_type": "stream",
       "stream": "stdout",
       "text": [
        "val rpc : Rpc.t =\n",
        "  Rpc.Dict\n",
        "   [(\"name\", Rpc.String \"John\"); (\"company\", Rpc.String \"Citrix\");\n",
        "    (\"age\", Rpc.Int 30L)]\n"
       ]
      }
     ],
     "prompt_number": 4
    },
    {
     "cell_type": "code",
     "collapsed": false,
     "input": [
      "Rpc.to_string rpc"
     ],
     "language": "python",
     "metadata": {},
     "outputs": [
      {
       "output_type": "stream",
       "stream": "stdout",
       "text": [
        "- : string = \"{name:S(John);company:S(Citrix);age:I(30)}\"\n"
       ]
      }
     ],
     "prompt_number": 5
    }
   ],
   "metadata": {}
  }
 ]
}