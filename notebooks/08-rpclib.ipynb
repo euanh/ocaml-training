{
 "metadata": {
  "language": "ocaml",
  "name": ""
 },
 "nbformat": 3,
 "nbformat_minor": 0,
 "worksheets": [
  {
   "cells": [
    {
     "cell_type": "code",
     "collapsed": false,
     "input": [
      "#require \"rpclib.syntax\""
     ],
     "language": "python",
     "metadata": {},
     "outputs": [
      {
       "output_type": "stream",
       "stream": "stdout",
       "text": []
      }
     ],
     "prompt_number": 1
    },
    {
     "cell_type": "code",
     "collapsed": false,
     "input": [
      "type pet = {\n",
      "    name: string;\n",
      "    noise: string;\n",
      "    age: int;\n",
      "} with rpc"
     ],
     "language": "python",
     "metadata": {},
     "outputs": [
      {
       "output_type": "stream",
       "stream": "stdout",
       "text": [
        "type pet = { name : string; noise : string; age : int; }\n",
        "val pet_of_rpc : Rpc.t -> pet = <fun>\n",
        "val rpc_of_pet : pet -> Rpc.t = <fun>\n"
       ]
      }
     ],
     "prompt_number": 2
    },
    {
     "cell_type": "code",
     "collapsed": false,
     "input": [
      "let dog = {name = \"Rover\"; noise = \"woof\"; age = 4}"
     ],
     "language": "python",
     "metadata": {},
     "outputs": [
      {
       "output_type": "stream",
       "stream": "stdout",
       "text": [
        "val dog : pet = {name = \"Rover\"; noise = \"woof\"; age = 4}\n"
       ]
      }
     ],
     "prompt_number": 3
    },
    {
     "cell_type": "code",
     "collapsed": false,
     "input": [
      "let rpc = rpc_of_pet dog"
     ],
     "language": "python",
     "metadata": {},
     "outputs": [
      {
       "output_type": "stream",
       "stream": "stdout",
       "text": [
        "val rpc : Rpc.t =\n",
        "  Rpc.Dict\n",
        "   [(\"name\", Rpc.String \"Rover\"); (\"noise\", Rpc.String \"woof\");\n",
        "    (\"age\", Rpc.Int 4L)]\n"
       ]
      }
     ],
     "prompt_number": 4
    },
    {
     "cell_type": "code",
     "collapsed": false,
     "input": [
      "Rpc.to_string rpc"
     ],
     "language": "python",
     "metadata": {},
     "outputs": [
      {
       "output_type": "stream",
       "stream": "stdout",
       "text": [
        "- : string = \"{name:S(Rover);noise:S(woof);age:I(4)}\"\n"
       ]
      }
     ],
     "prompt_number": 5
    }
   ],
   "metadata": {}
  }
 ]
}