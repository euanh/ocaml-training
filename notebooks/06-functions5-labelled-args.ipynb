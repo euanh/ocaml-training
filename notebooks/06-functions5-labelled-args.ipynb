{
 "metadata": {
  "language": "ocaml",
  "name": ""
 },
 "nbformat": 3,
 "nbformat_minor": 0,
 "worksheets": [
  {
   "cells": [
    {
     "cell_type": "markdown",
     "metadata": {},
     "source": [
      "Labelled arguments:"
     ]
    },
    {
     "cell_type": "code",
     "collapsed": false,
     "input": [
      "let say_hello_1 ~name =\n",
      "    Printf.printf \"hello %s\\n\" name"
     ],
     "language": "python",
     "metadata": {},
     "outputs": [
      {
       "html": [
        "<pre style=\"color:slategray;max-height:100px;overflow:hidden\" \n",
        "onclick=\"\n",
        "if (this.style.maxHeight === 'none') \n",
        "    this.style.maxHeight = '100px';\n",
        "else\n",
        "    this.style.maxHeight = 'none'; \n",
        "\">val say_hello_1 : name:string -&gt; unit = &lt;fun&gt;\n",
        "</pre>"
       ],
       "metadata": {},
       "output_type": "pyout",
       "prompt_number": 1
      }
     ],
     "prompt_number": 1
    },
    {
     "cell_type": "code",
     "collapsed": false,
     "input": [
      "say_hello_1 ~name:\"everyone\""
     ],
     "language": "python",
     "metadata": {},
     "outputs": [
      {
       "output_type": "stream",
       "stream": "stdout",
       "text": [
        "hello everyone\n"
       ]
      },
      {
       "html": [
        "<pre style=\"color:slategray;max-height:100px;overflow:hidden\" \n",
        "onclick=\"\n",
        "if (this.style.maxHeight === 'none') \n",
        "    this.style.maxHeight = '100px';\n",
        "else\n",
        "    this.style.maxHeight = 'none'; \n",
        "\">- : unit = ()\n",
        "</pre>"
       ],
       "metadata": {},
       "output_type": "pyout",
       "prompt_number": 2
      }
     ],
     "prompt_number": 2
    },
    {
     "cell_type": "code",
     "collapsed": false,
     "input": [
      "let divide ~numerator ~denominator = numerator / denominator"
     ],
     "language": "python",
     "metadata": {},
     "outputs": [
      {
       "html": [
        "<pre style=\"color:slategray;max-height:100px;overflow:hidden\" \n",
        "onclick=\"\n",
        "if (this.style.maxHeight === 'none') \n",
        "    this.style.maxHeight = '100px';\n",
        "else\n",
        "    this.style.maxHeight = 'none'; \n",
        "\">val divide : numerator:int -&gt; denominator:int -&gt; int = &lt;fun&gt;\n",
        "</pre>"
       ],
       "metadata": {},
       "output_type": "pyout",
       "prompt_number": 3
      }
     ],
     "prompt_number": 3
    },
    {
     "cell_type": "code",
     "collapsed": false,
     "input": [
      "let divide_by_5 = divide ~denominator:5"
     ],
     "language": "python",
     "metadata": {},
     "outputs": [
      {
       "html": [
        "<pre style=\"color:slategray;max-height:100px;overflow:hidden\" \n",
        "onclick=\"\n",
        "if (this.style.maxHeight === 'none') \n",
        "    this.style.maxHeight = '100px';\n",
        "else\n",
        "    this.style.maxHeight = 'none'; \n",
        "\">val divide_by_5 : numerator:int -&gt; int = &lt;fun&gt;\n",
        "</pre>"
       ],
       "metadata": {},
       "output_type": "pyout",
       "prompt_number": 4
      }
     ],
     "prompt_number": 4
    },
    {
     "cell_type": "code",
     "collapsed": false,
     "input": [
      "divide_by_5 50"
     ],
     "language": "python",
     "metadata": {},
     "outputs": [
      {
       "html": [
        "<pre style=\"color:slategray;max-height:100px;overflow:hidden\" \n",
        "onclick=\"\n",
        "if (this.style.maxHeight === 'none') \n",
        "    this.style.maxHeight = '100px';\n",
        "else\n",
        "    this.style.maxHeight = 'none'; \n",
        "\">- : int = 10\n",
        "</pre>"
       ],
       "metadata": {},
       "output_type": "pyout",
       "prompt_number": 5
      }
     ],
     "prompt_number": 5
    }
   ],
   "metadata": {}
  }
 ]
}