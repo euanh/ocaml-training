{
 "metadata": {
  "language": "ocaml",
  "name": ""
 },
 "nbformat": 3,
 "nbformat_minor": 0,
 "worksheets": [
  {
   "cells": [
    {
     "cell_type": "markdown",
     "metadata": {},
     "source": [
      "Records are tuples with named fields:"
     ]
    },
    {
     "cell_type": "code",
     "collapsed": false,
     "input": [
      "type pet = {\n",
      "    name: string;\n",
      "    noise: string;\n",
      "    age: int;\n",
      "}"
     ],
     "language": "python",
     "metadata": {},
     "outputs": [
      {
       "html": [
        "<pre style=\"color:slategray;max-height:100px;overflow:hidden\" \n",
        "onclick=\"\n",
        "if (this.style.maxHeight === 'none') \n",
        "    this.style.maxHeight = '100px';\n",
        "else\n",
        "    this.style.maxHeight = 'none'; \n",
        "\">type pet = { name : string; noise : string; age : int; }\n",
        "</pre>"
       ],
       "metadata": {},
       "output_type": "pyout",
       "prompt_number": 1
      }
     ],
     "prompt_number": 1
    },
    {
     "cell_type": "code",
     "collapsed": false,
     "input": [
      "let dog = {name = \"Rover\"; noise = \"woof\"; age = 4}"
     ],
     "language": "python",
     "metadata": {},
     "outputs": [
      {
       "html": [
        "<pre style=\"color:slategray;max-height:100px;overflow:hidden\" \n",
        "onclick=\"\n",
        "if (this.style.maxHeight === 'none') \n",
        "    this.style.maxHeight = '100px';\n",
        "else\n",
        "    this.style.maxHeight = 'none'; \n",
        "\">val dog : pet = {name = &quot;Rover&quot;; noise = &quot;woof&quot;; age = 4}\n",
        "</pre>"
       ],
       "metadata": {},
       "output_type": "pyout",
       "prompt_number": 2
      }
     ],
     "prompt_number": 2
    },
    {
     "cell_type": "code",
     "collapsed": false,
     "input": [
      "String.uppercase dog.name;;"
     ],
     "language": "python",
     "metadata": {},
     "outputs": [
      {
       "html": [
        "<pre style=\"color:slategray;max-height:100px;overflow:hidden\" \n",
        "onclick=\"\n",
        "if (this.style.maxHeight === 'none') \n",
        "    this.style.maxHeight = '100px';\n",
        "else\n",
        "    this.style.maxHeight = 'none'; \n",
        "\">- : string = &quot;ROVER&quot;\n",
        "</pre>"
       ],
       "metadata": {},
       "output_type": "pyout",
       "prompt_number": 3
      }
     ],
     "prompt_number": 3
    },
    {
     "cell_type": "code",
     "collapsed": false,
     "input": [
      "let talk pet =\n",
      "    print_endline pet.noise"
     ],
     "language": "python",
     "metadata": {},
     "outputs": [
      {
       "html": [
        "<pre style=\"color:slategray;max-height:100px;overflow:hidden\" \n",
        "onclick=\"\n",
        "if (this.style.maxHeight === 'none') \n",
        "    this.style.maxHeight = '100px';\n",
        "else\n",
        "    this.style.maxHeight = 'none'; \n",
        "\">val talk : pet -&gt; unit = &lt;fun&gt;\n",
        "</pre>"
       ],
       "metadata": {},
       "output_type": "pyout",
       "prompt_number": 4
      }
     ],
     "prompt_number": 4
    },
    {
     "cell_type": "code",
     "collapsed": false,
     "input": [
      "talk dog"
     ],
     "language": "python",
     "metadata": {},
     "outputs": [
      {
       "output_type": "stream",
       "stream": "stdout",
       "text": [
        "woof\n"
       ]
      },
      {
       "html": [
        "<pre style=\"color:slategray;max-height:100px;overflow:hidden\" \n",
        "onclick=\"\n",
        "if (this.style.maxHeight === 'none') \n",
        "    this.style.maxHeight = '100px';\n",
        "else\n",
        "    this.style.maxHeight = 'none'; \n",
        "\">- : unit = ()\n",
        "</pre>"
       ],
       "metadata": {},
       "output_type": "pyout",
       "prompt_number": 5
      }
     ],
     "prompt_number": 5
    }
   ],
   "metadata": {}
  }
 ]
}